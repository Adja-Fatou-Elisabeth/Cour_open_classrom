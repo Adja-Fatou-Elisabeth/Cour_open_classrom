{
 "cells": [
  {
   "cell_type": "code",
   "execution_count": 3,
   "metadata": {},
   "outputs": [
    {
     "name": "stdout",
     "output_type": "stream",
     "text": [
      "WARNING:tensorflow:From /home/adja/anaconda3/lib/python3.7/site-packages/tensorflow/python/ops/init_ops.py:1251: calling VarianceScaling.__init__ (from tensorflow.python.ops.init_ops) with dtype is deprecated and will be removed in a future version.\n",
      "Instructions for updating:\n",
      "Call initializer instance with the dtype argument instead of passing it to the constructor\n",
      "WARNING:tensorflow:From /home/adja/anaconda3/lib/python3.7/site-packages/tensorflow/python/keras/backend.py:4075: add_dispatch_support.<locals>.wrapper (from tensorflow.python.ops.array_ops) is deprecated and will be removed in a future version.\n",
      "Instructions for updating:\n",
      "Use tf.where in 2.0, which has the same broadcast rule as np.where\n",
      "Model: \"sequential\"\n",
      "_________________________________________________________________\n",
      "Layer (type)                 Output Shape              Param #   \n",
      "=================================================================\n",
      "dense (Dense)                (None, 64)                50240     \n",
      "_________________________________________________________________\n",
      "dense_1 (Dense)              (None, 32)                2080      \n",
      "_________________________________________________________________\n",
      "dense_2 (Dense)              (None, 32)                1056      \n",
      "_________________________________________________________________\n",
      "dense_3 (Dense)              (None, 10)                330       \n",
      "=================================================================\n",
      "Total params: 53,706\n",
      "Trainable params: 53,706\n",
      "Non-trainable params: 0\n",
      "_________________________________________________________________\n",
      "None\n",
      "Train on 48000 samples, validate on 12000 samples\n",
      "Epoch 1/20\n",
      "48000/48000 [==============================] - 7s 139us/sample - loss: 0.2764 - acc: 0.9172 - val_loss: 0.1740 - val_acc: 0.9477\n",
      "Epoch 2/20\n",
      "48000/48000 [==============================] - 3s 71us/sample - loss: 0.1311 - acc: 0.9603 - val_loss: 0.1281 - val_acc: 0.9611\n",
      "Epoch 3/20\n",
      "48000/48000 [==============================] - 4s 85us/sample - loss: 0.0995 - acc: 0.9695 - val_loss: 0.1099 - val_acc: 0.9697\n",
      "Epoch 4/20\n",
      "48000/48000 [==============================] - 4s 79us/sample - loss: 0.0805 - acc: 0.9760 - val_loss: 0.1162 - val_acc: 0.9687\n",
      "Epoch 5/20\n",
      "48000/48000 [==============================] - 4s 78us/sample - loss: 0.0688 - acc: 0.9799 - val_loss: 0.1045 - val_acc: 0.9733\n",
      "Epoch 6/20\n",
      "48000/48000 [==============================] - 4s 80us/sample - loss: 0.0604 - acc: 0.9816 - val_loss: 0.1120 - val_acc: 0.9710\n",
      "Epoch 7/20\n",
      "48000/48000 [==============================] - 4s 78us/sample - loss: 0.0541 - acc: 0.9836 - val_loss: 0.1239 - val_acc: 0.9697\n",
      "Epoch 8/20\n",
      "48000/48000 [==============================] - 3s 64us/sample - loss: 0.0488 - acc: 0.9854 - val_loss: 0.1197 - val_acc: 0.9711\n",
      "Epoch 9/20\n",
      "48000/48000 [==============================] - 3s 63us/sample - loss: 0.0451 - acc: 0.9864 - val_loss: 0.1285 - val_acc: 0.9697\n",
      "Epoch 10/20\n",
      "48000/48000 [==============================] - 3s 62us/sample - loss: 0.0395 - acc: 0.9884 - val_loss: 0.1116 - val_acc: 0.9745\n",
      "Epoch 11/20\n",
      "48000/48000 [==============================] - 3s 63us/sample - loss: 0.0363 - acc: 0.9893 - val_loss: 0.1357 - val_acc: 0.9711\n",
      "Epoch 12/20\n",
      "48000/48000 [==============================] - 3s 63us/sample - loss: 0.0326 - acc: 0.9904 - val_loss: 0.1232 - val_acc: 0.9744\n",
      "Epoch 13/20\n",
      "48000/48000 [==============================] - 3s 64us/sample - loss: 0.0309 - acc: 0.9909 - val_loss: 0.1397 - val_acc: 0.9722\n",
      "Epoch 14/20\n",
      "48000/48000 [==============================] - 3s 63us/sample - loss: 0.0283 - acc: 0.9918 - val_loss: 0.1510 - val_acc: 0.9724\n",
      "Epoch 15/20\n",
      "48000/48000 [==============================] - 3s 63us/sample - loss: 0.0265 - acc: 0.9925 - val_loss: 0.1478 - val_acc: 0.9718\n",
      "Epoch 16/20\n",
      "48000/48000 [==============================] - 3s 64us/sample - loss: 0.0240 - acc: 0.9925 - val_loss: 0.1466 - val_acc: 0.9734\n",
      "Epoch 17/20\n",
      "48000/48000 [==============================] - 3s 63us/sample - loss: 0.0223 - acc: 0.9939 - val_loss: 0.1537 - val_acc: 0.9732\n",
      "Epoch 18/20\n",
      "48000/48000 [==============================] - 3s 63us/sample - loss: 0.0201 - acc: 0.9944 - val_loss: 0.1597 - val_acc: 0.9735\n",
      "Epoch 19/20\n",
      "48000/48000 [==============================] - 3s 62us/sample - loss: 0.0182 - acc: 0.9947 - val_loss: 0.1701 - val_acc: 0.9728\n",
      "Epoch 20/20\n",
      "48000/48000 [==============================] - 3s 64us/sample - loss: 0.0175 - acc: 0.9947 - val_loss: 0.1802 - val_acc: 0.9726\n"
     ]
    },
    {
     "data": {
      "text/plain": [
       "<tensorflow.python.keras.callbacks.History at 0x7f4a86c750f0>"
      ]
     },
     "execution_count": 3,
     "metadata": {},
     "output_type": "execute_result"
    },
    {
     "data": {
      "image/png": "[encoded data removed]",
      "text/plain": [
       "<Figure size 432x288 with 1 Axes>"
      ]
     },
     "metadata": {
      "needs_background": "light"
     },
     "output_type": "display_data"
    }
   ],
   "source": [
    "#Les librairies utilise\n",
    "import os\n",
    "import sklearn as sk\n",
    "import tensorflow as tf\n",
    "import tensorflow.keras as keras\n",
    "import numpy as np\n",
    "import matplotlib.pyplot as plt\n",
    "from tensorflow.keras.models import Sequential\n",
    "from tensorflow.keras.layers import Dense\n",
    "from tensorflow.keras.datasets import mnist\n",
    "from tensorflow.keras.datasets import fashion_mnist\n",
    "from tensorflow.keras.utils import to_categorical\n",
    "\n",
    "def build_model():\n",
    "    \"\"\" Creation d'un model a partir du model keras\"\"\"\n",
    "    my_model = Sequential()\n",
    "    #input_shape est la creation de la premier couche\n",
    "    #64 represente la creation de la premier couche\n",
    "    my_model.add(Dense(64,input_shape=(784, ),activation='relu'))\n",
    "    my_model.add(Dense(32,activation='selu'))\n",
    "    my_model.add(Dense(32,activation='selu'))\n",
    "    #Couche de sortie representer pas categorie  10= nombre de class'cad categorie'\n",
    "    my_model.add(Dense(10,activation='softmax'))\n",
    "    #Compilation du model qui prend en parametre la fonction a compile\n",
    "    #loss permit definir le \n",
    "    my_model.compile(loss='categorical_crossentropy',optimizer='rmsprop',metrics=['accuracy'])\n",
    "    print(my_model.summary())\n",
    "    return my_model\n",
    "\n",
    "#import data\n",
    "(X_train,Y_train),(X_test,Y_test) = mnist.load_data()\n",
    "plt.imshow(X_train[1], cmap='gray')\n",
    "#reshaping\n",
    "X_train = X_train.reshape((X_train.shape[0], 28*28))/255#.shape\n",
    "X_test = X_test.reshape((X_test.shape[0], 28*28))/255#.shape\n",
    "\n",
    "#%%time\n",
    "#Train our model\n",
    "#Encoding\n",
    "model_attut =build_model()\n",
    "Y_train = to_categorical(Y_train)\n",
    "Y_test = to_categorical(Y_test)\n",
    "model_attut.fit(X_train,Y_train, epochs=20 ,batch_size=32,validation_split=0.2)\n"
   ]
  },
  {
   "cell_type": "code",
   "execution_count": null,
   "metadata": {},
   "outputs": [],
   "source": []
  }
 ],
 "metadata": {
  "kernelspec": {
   "display_name": "Python 3",
   "language": "python",
   "name": "python3"
  },
  "language_info": {
   "codemirror_mode": {
    "name": "ipython",
    "version": 3
   },
   "file_extension": ".py",
   "mimetype": "text/x-python",
   "name": "python",
   "nbconvert_exporter": "python",
   "pygments_lexer": "ipython3",
   "version": "3.7.3"
  }
 },
 "nbformat": 4,
 "nbformat_minor": 2
}
